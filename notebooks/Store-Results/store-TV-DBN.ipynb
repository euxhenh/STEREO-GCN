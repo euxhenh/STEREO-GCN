{
 "cells": [
  {
   "cell_type": "code",
   "execution_count": 1,
   "id": "054a5773-ff7f-4e37-8697-fc39ae642499",
   "metadata": {},
   "outputs": [
    {
     "name": "stdout",
     "output_type": "stream",
     "text": [
      "/home/paperspace/time-varying-graphs\n"
     ]
    }
   ],
   "source": [
    "cd ../.."
   ]
  },
  {
   "cell_type": "code",
   "execution_count": 2,
   "id": "5c686c27-a669-406c-ab48-ff40fec2f097",
   "metadata": {},
   "outputs": [],
   "source": [
    "from pathlib import Path\n",
    "\n",
    "import numpy as np\n",
    "from omegaconf import OmegaConf\n",
    "from scipy.sparse import load_npz\n",
    "from sklearn.metrics import *\n",
    "from tqdm.auto import tqdm\n",
    "\n",
    "import stereo\n",
    "from stereo.utils.results import *\n",
    "\n",
    "npi = np.intersect1d\n",
    "npc = np.concatenate\n",
    "npu = np.unique\n",
    "npd = np.setdiff1d"
   ]
  },
  {
   "cell_type": "code",
   "execution_count": 18,
   "id": "ecc4ff4a-0f84-4bd3-8707-79c0af7330aa",
   "metadata": {},
   "outputs": [],
   "source": [
    "model_name = 'TV-DBN'\n",
    "dataset_name = 'PBMC'"
   ]
  },
  {
   "cell_type": "code",
   "execution_count": 17,
   "id": "7864cda3-64a9-4e34-b6be-f3abc633772f",
   "metadata": {},
   "outputs": [
    {
     "name": "stdout",
     "output_type": "stream",
     "text": [
      "Keeping 2050 genes.\n"
     ]
    }
   ],
   "source": [
    "cfg = OmegaConf.load(f'configs/dataset/GRN-{dataset_name}.yaml')\n",
    "dataset = load_dataset(cfg)\n",
    "training_tfs = dataset.genes[dataset.gene_is_tf]"
   ]
  },
  {
   "cell_type": "markdown",
   "id": "24318ad1-2a29-4000-a5e4-03cd3c6f1372",
   "metadata": {},
   "source": [
    "### Run seeds and IDs"
   ]
  },
  {
   "cell_type": "code",
   "execution_count": 24,
   "id": "9d6c5a7f-858d-42e6-a260-d0531bea93b9",
   "metadata": {},
   "outputs": [],
   "source": [
    "runs = load_run_ids(f'results/runs/{dataset_name}/{model_name}.json', 'DEG4')"
   ]
  },
  {
   "cell_type": "code",
   "execution_count": 25,
   "id": "6d3ee5ae-80f7-41d4-b689-2ee304cbd9fb",
   "metadata": {},
   "outputs": [
    {
     "data": {
      "application/vnd.jupyter.widget-view+json": {
       "model_id": "041fdfe687e14b39b3cdc1d08a832ffa",
       "version_major": 2,
       "version_minor": 0
      },
      "text/plain": [
       "  0%|          | 0/3 [00:00<?, ?it/s]"
      ]
     },
     "metadata": {},
     "output_type": "display_data"
    },
    {
     "name": "stdout",
     "output_type": "stream",
     "text": [
      "(3, 3, 2050, 590)\n"
     ]
    }
   ],
   "source": [
    "As = []\n",
    "\n",
    "for seed, run in tqdm(runs.items()):\n",
    "    adjs_path = Path(f'results/PBMCGeneRegPseudotimeDataset/{run}/adjs')\n",
    "    As_seed = []\n",
    "    for i in range(dataset.n_seq):\n",
    "        As_seed.append(load_npz(adjs_path / f'A_{i}.npz').toarray()[:, dataset.gene_is_tf])\n",
    "    As.append(As_seed)\n",
    "\n",
    "As = np.stack(As)\n",
    "print(As.shape)"
   ]
  },
  {
   "cell_type": "code",
   "execution_count": 26,
   "id": "f6c09e01-5479-48af-a6dd-5a42a7ac9851",
   "metadata": {},
   "outputs": [
    {
     "name": "stdout",
     "output_type": "stream",
     "text": [
      "t=0\t Selected 575 edges\tN. TFs = 14\tN. genes = 448\t\n",
      "t=1\t Selected 799 edges\tN. TFs = 19\tN. genes = 524\t\n",
      "t=2\t Selected 912 edges\tN. TFs = 22\tN. genes = 546\t\n"
     ]
    }
   ],
   "source": [
    "t_to_selected = aggregate_As(\n",
    "    As,\n",
    "    tfs=dataset.genes[dataset.gene_is_tf],\n",
    "    genes=dataset.genes,\n",
    "    consensus=2,\n",
    "    top_tfs=38,\n",
    "    top_genes_per_tf=45,\n",
    ")"
   ]
  },
  {
   "cell_type": "code",
   "execution_count": 27,
   "id": "f498e262-2a27-465a-9ad0-28ce6469d0d8",
   "metadata": {},
   "outputs": [
    {
     "data": {
      "text/plain": [
       "(array(['ATRX', 'CEBPD', 'DRAP1', 'FOS', 'FOSB', 'IRF1', 'JUNB', 'KLF10',\n",
       "        'KLF2', 'KLF6', 'STAT1', 'TRIM22', 'ZFP36', 'ZFP36L1'], dtype='<U7'),\n",
       " array([45, 45, 45, 45, 45, 45, 45, 45,  4, 45, 45, 45, 31, 45]))"
      ]
     },
     "execution_count": 27,
     "metadata": {},
     "output_type": "execute_result"
    }
   ],
   "source": [
    "npu([v[0] for v in t_to_selected[0]], return_counts=True)"
   ]
  },
  {
   "cell_type": "code",
   "execution_count": 28,
   "id": "73ac87ff-ee9b-41ca-a292-e3b4b1f04263",
   "metadata": {},
   "outputs": [],
   "source": [
    "write_graphs(t_to_selected, f'results/graphs/{model_name}-{dataset_name}')"
   ]
  }
 ],
 "metadata": {
  "kernelspec": {
   "display_name": "Python 3 (ipykernel)",
   "language": "python",
   "name": "python3"
  },
  "language_info": {
   "codemirror_mode": {
    "name": "ipython",
    "version": 3
   },
   "file_extension": ".py",
   "mimetype": "text/x-python",
   "name": "python",
   "nbconvert_exporter": "python",
   "pygments_lexer": "ipython3",
   "version": "3.10.12"
  }
 },
 "nbformat": 4,
 "nbformat_minor": 5
}
