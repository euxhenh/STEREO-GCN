{
 "cells": [
  {
   "cell_type": "code",
   "execution_count": null,
   "id": "054a5773-ff7f-4e37-8697-fc39ae642499",
   "metadata": {},
   "outputs": [],
   "source": [
    "cd ../.."
   ]
  },
  {
   "cell_type": "code",
   "execution_count": null,
   "id": "5c686c27-a669-406c-ab48-ff40fec2f097",
   "metadata": {},
   "outputs": [],
   "source": [
    "import numpy as np\n",
    "import torch\n",
    "from omegaconf import OmegaConf\n",
    "from sklearn.metrics import *\n",
    "from tqdm.auto import tqdm\n",
    "\n",
    "import stereo\n",
    "from stereo.utils.results import *\n",
    "from stereo.utils.stats import htest\n",
    "\n",
    "npi = np.intersect1d\n",
    "npc = np.concatenate\n",
    "npu = np.unique\n",
    "npd = np.setdiff1d"
   ]
  },
  {
   "cell_type": "code",
   "execution_count": null,
   "id": "b3251d72-3f41-4a8e-b21f-f28c79730a0e",
   "metadata": {},
   "outputs": [],
   "source": [
    "model_name = 'STEREO-GCN'\n",
    "dataset_name = 'AT2'"
   ]
  },
  {
   "cell_type": "code",
   "execution_count": null,
   "id": "7864cda3-64a9-4e34-b6be-f3abc633772f",
   "metadata": {},
   "outputs": [],
   "source": [
    "cfg = OmegaConf.load(f'configs/dataset/GRN-{dataset_name}.yaml')\n",
    "dataset = load_dataset(cfg)\n",
    "training_tfs = dataset.genes[dataset.gene_is_tf]"
   ]
  },
  {
   "cell_type": "markdown",
   "id": "24318ad1-2a29-4000-a5e4-03cd3c6f1372",
   "metadata": {},
   "source": [
    "### Run seeds and IDs"
   ]
  },
  {
   "cell_type": "markdown",
   "id": "1e14a7de-a0d4-4299-b5da-1d3a7131f0e1",
   "metadata": {},
   "source": [
    "#### Hier-Prox Step 1"
   ]
  },
  {
   "cell_type": "code",
   "execution_count": null,
   "id": "de4c4f47-a779-49ef-8612-f018a68cf76c",
   "metadata": {},
   "outputs": [],
   "source": [
    "hier_runs = load_run_ids(f'results/runs/{dataset_name}/{model_name}.json', 'DEG4-hier')"
   ]
  },
  {
   "cell_type": "code",
   "execution_count": null,
   "id": "cc41158d-0549-458a-a043-4bb3ccc62abd",
   "metadata": {},
   "outputs": [],
   "source": [
    "counters = [np.zeros(dataset.gene_is_tf.sum()) for _ in range(dataset.n_seq)]\n",
    "theta_d = [np.zeros(dataset.gene_is_tf.sum()) for _ in range(dataset.n_seq)]\n",
    "\n",
    "for seed, run in tqdm(hier_runs.items()):\n",
    "    if dataset_name == 'PBMC':\n",
    "        ckpt_path = f'PBMCGeneRegPseudotimeDataset_logs/{run}/checkpoints/last.ckpt'\n",
    "    else:\n",
    "        ckpt_path = f'GeneRegPseudotimeDataset_logs/{run}/checkpoints/last.ckpt'\n",
    "    hp = torch.load(ckpt_path, map_location='cpu')['callbacks']['HierProx']\n",
    "    for idx, theta in enumerate(hp['theta_seq_']):\n",
    "        counters[idx][theta > 0] += 1\n",
    "        theta_d[idx] += theta.numpy()\n",
    "theta_d = np.stack(theta_d)"
   ]
  },
  {
   "cell_type": "code",
   "execution_count": null,
   "id": "8a59c4c4-6f10-4653-b3ca-0b43a9429164",
   "metadata": {},
   "outputs": [],
   "source": [
    "slist = {}\n",
    "\n",
    "consensus = 5\n",
    "\n",
    "for idx, counter in enumerate(counters):\n",
    "    selected_indices = (counter >= consensus).nonzero()[0]\n",
    "    print(selected_indices.tolist())\n",
    "    selected_tfs = training_tfs[counter >= consensus]\n",
    "    print(selected_tfs.tolist())\n",
    "    slist[idx] = (selected_tfs, selected_indices)\n",
    "    # olap = npi(tfs, selected_tfs)\n",
    "    # print(olap)\n",
    "    # pval = htest(universe=training_tfs, draws=selected_tfs, successes=tfs)\n",
    "    # print(f\"T={idx}, overlap={olap.size} / {len(selected_tfs)}\", )\n",
    "    # print('====')"
   ]
  },
  {
   "cell_type": "code",
   "execution_count": null,
   "id": "389736a3-4d21-43e5-83ff-d40818306fab",
   "metadata": {},
   "outputs": [],
   "source": [
    "allidx = [v[1] for v in list(slist.values())]\n",
    "allgene = [v[0] for v in list(slist.values())]\n",
    "catted = npu(npc(allgene))\n",
    "print(catted, len(npu(npc(allgene))))\n",
    "print(npu(npc(allidx)).tolist())"
   ]
  },
  {
   "cell_type": "code",
   "execution_count": null,
   "id": "7ef60994-1a76-4704-99f3-eddda3038f32",
   "metadata": {},
   "outputs": [],
   "source": [
    "sel = [v[0] for v in list(slist.values())]\n",
    "print(npi(npi(sel[0], sel[1]), sel[2]))\n",
    "print(npi(sel[0], sel[1]))\n",
    "print(npi(sel[1], sel[2]))\n",
    "print(npi(sel[0], sel[2]))"
   ]
  },
  {
   "cell_type": "code",
   "execution_count": null,
   "id": "f857a1a6-5b2b-406a-b8e0-dafcb0a21a36",
   "metadata": {},
   "outputs": [],
   "source": [
    "npi(catted, dataset.snc_tfs)"
   ]
  },
  {
   "cell_type": "code",
   "execution_count": null,
   "id": "af66da91-2375-420e-92a4-c2f481260153",
   "metadata": {},
   "outputs": [],
   "source": [
    "a = ['BTF3', 'FOS', 'JUNB', 'JUND', 'KLF2', 'NFKBIA', 'NPM1', 'PTMA', 'SF1', 'TSC22D3']\n",
    "for g in a:\n",
    "    print(f\"\\\\textit{{{g}}}\", end=', ')"
   ]
  },
  {
   "cell_type": "markdown",
   "id": "48f6d434-e6d2-46ff-8700-3443b2cc3550",
   "metadata": {},
   "source": [
    "#### Full Step 2"
   ]
  },
  {
   "cell_type": "code",
   "execution_count": null,
   "id": "4f4aaa7b-43f6-4eed-8077-7a0fb9f7a1b1",
   "metadata": {},
   "outputs": [],
   "source": [
    "full_runs = load_run_ids(f'results/runs/{dataset_name}/{model_name}.json', 'DEG4-full')"
   ]
  },
  {
   "cell_type": "code",
   "execution_count": null,
   "id": "6d3ee5ae-80f7-41d4-b689-2ee304cbd9fb",
   "metadata": {},
   "outputs": [],
   "source": [
    "As = []\n",
    "\n",
    "for seed, run in tqdm(full_runs.items()):\n",
    "    if dataset_name == 'PBMC':\n",
    "        ckpt_path = f'PBMCGeneRegPseudotimeDataset_logs/{run}/checkpoints/last.ckpt'\n",
    "    else:\n",
    "        ckpt_path = f'GeneRegPseudotimeDataset_logs/{run}/checkpoints/last.ckpt'\n",
    "    module = stereo.STEREO_GCN_Module.load_from_checkpoint(ckpt_path, map_location='cpu')\n",
    "    As.append([A.detach().numpy() for A in module.A_seq_])\n",
    "\n",
    "As = np.stack(As)\n",
    "print(As.shape)"
   ]
  },
  {
   "cell_type": "code",
   "execution_count": null,
   "id": "0b05d88c-e7f2-48f8-a31c-fc9f6d634778",
   "metadata": {},
   "outputs": [],
   "source": [
    "t_to_selected = aggregate_As(\n",
    "    As,\n",
    "    tfs=dataset.genes[module.sources_mask_seq[0]],\n",
    "    genes=dataset.genes,\n",
    "    consensus=3,\n",
    ")"
   ]
  },
  {
   "cell_type": "code",
   "execution_count": null,
   "id": "b08a9807-d07a-4680-832e-d7b032d007a2",
   "metadata": {},
   "outputs": [],
   "source": [
    "write_graphs(t_to_selected, f'results/graphs/{dataset_name}/{model_name}-{dataset_name}')"
   ]
  }
 ],
 "metadata": {
  "language_info": {
   "name": "python"
  }
 },
 "nbformat": 4,
 "nbformat_minor": 5
}
