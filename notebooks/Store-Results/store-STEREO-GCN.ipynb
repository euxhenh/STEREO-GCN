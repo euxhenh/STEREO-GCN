{
 "cells": [
  {
   "cell_type": "code",
   "execution_count": 1,
   "id": "054a5773-ff7f-4e37-8697-fc39ae642499",
   "metadata": {},
   "outputs": [
    {
     "name": "stdout",
     "output_type": "stream",
     "text": [
      "/home/paperspace/time-varying-graphs\n"
     ]
    }
   ],
   "source": [
    "cd ../.."
   ]
  },
  {
   "cell_type": "code",
   "execution_count": 2,
   "id": "5c686c27-a669-406c-ab48-ff40fec2f097",
   "metadata": {},
   "outputs": [],
   "source": [
    "import numpy as np\n",
    "import torch\n",
    "from omegaconf import OmegaConf\n",
    "from sklearn.metrics import *\n",
    "from tqdm.auto import tqdm\n",
    "\n",
    "import stereo\n",
    "from stereo.utils.results import *\n",
    "from stereo.utils.stats import htest\n",
    "\n",
    "npi = np.intersect1d\n",
    "npc = np.concatenate\n",
    "npu = np.unique\n",
    "npd = np.setdiff1d"
   ]
  },
  {
   "cell_type": "code",
   "execution_count": 20,
   "id": "b3251d72-3f41-4a8e-b21f-f28c79730a0e",
   "metadata": {},
   "outputs": [],
   "source": [
    "model_name = 'STEREO-GCN'\n",
    "dataset_name = 'AT2'"
   ]
  },
  {
   "cell_type": "code",
   "execution_count": 21,
   "id": "7864cda3-64a9-4e34-b6be-f3abc633772f",
   "metadata": {},
   "outputs": [
    {
     "name": "stdout",
     "output_type": "stream",
     "text": [
      "Keeping 2263 genes.\n"
     ]
    }
   ],
   "source": [
    "cfg = OmegaConf.load(f'configs/dataset/GRN-{dataset_name}.yaml')\n",
    "dataset = load_dataset(cfg)\n",
    "training_tfs = dataset.genes[dataset.gene_is_tf]"
   ]
  },
  {
   "cell_type": "markdown",
   "id": "24318ad1-2a29-4000-a5e4-03cd3c6f1372",
   "metadata": {},
   "source": [
    "### Run seeds and IDs"
   ]
  },
  {
   "cell_type": "markdown",
   "id": "1e14a7de-a0d4-4299-b5da-1d3a7131f0e1",
   "metadata": {},
   "source": [
    "#### Hier-Prox Step 1"
   ]
  },
  {
   "cell_type": "code",
   "execution_count": 11,
   "id": "de4c4f47-a779-49ef-8612-f018a68cf76c",
   "metadata": {},
   "outputs": [],
   "source": [
    "hier_runs = load_run_ids(f'results/runs/{dataset_name}/{model_name}.json', 'DEG4-hier')"
   ]
  },
  {
   "cell_type": "code",
   "execution_count": 12,
   "id": "cc41158d-0549-458a-a043-4bb3ccc62abd",
   "metadata": {},
   "outputs": [
    {
     "data": {
      "application/vnd.jupyter.widget-view+json": {
       "model_id": "c7a9f7e7905340d0b9d08f4f8c7ad179",
       "version_major": 2,
       "version_minor": 0
      },
      "text/plain": [
       "  0%|          | 0/10 [00:00<?, ?it/s]"
      ]
     },
     "metadata": {},
     "output_type": "display_data"
    }
   ],
   "source": [
    "counters = [np.zeros(dataset.gene_is_tf.sum()) for _ in range(dataset.n_seq)]\n",
    "theta_d = [np.zeros(dataset.gene_is_tf.sum()) for _ in range(dataset.n_seq)]\n",
    "\n",
    "for seed, run in tqdm(hier_runs.items()):\n",
    "    if dataset_name == 'PBMC':\n",
    "        ckpt_path = f'PBMCGeneRegPseudotimeDataset_logs/{run}/checkpoints/last.ckpt'\n",
    "    else:\n",
    "        ckpt_path = f'GeneRegPseudotimeDataset_logs/{run}/checkpoints/last.ckpt'\n",
    "    hp = torch.load(ckpt_path, map_location='cpu')['callbacks']['HierProx']\n",
    "    for idx, theta in enumerate(hp['theta_seq_']):\n",
    "        counters[idx][theta > 0] += 1\n",
    "        theta_d[idx] += theta.numpy()\n",
    "theta_d = np.stack(theta_d)"
   ]
  },
  {
   "cell_type": "code",
   "execution_count": 13,
   "id": "8a59c4c4-6f10-4653-b3ca-0b43a9429164",
   "metadata": {},
   "outputs": [
    {
     "name": "stdout",
     "output_type": "stream",
     "text": [
      "[4, 33, 36, 38, 46, 51, 53, 55, 56, 86, 93, 103, 106, 111, 115, 121]\n",
      "['YBX1', 'HES1', 'EPAS1', 'ID3', 'NR4A1', 'IRF1', 'ID1', 'KLF2', 'ZFP36', 'ETS2', 'IFI16', 'FOS', 'CEBPB', 'JUN', 'NPM1', 'TCF4']\n",
      "[36, 38, 53, 55, 56, 93, 111, 121]\n",
      "['EPAS1', 'ID3', 'ID1', 'KLF2', 'ZFP36', 'IFI16', 'JUN', 'TCF4']\n",
      "[4, 36, 38, 46, 53, 55, 56, 84, 86, 93, 103, 105, 109, 111, 115, 121]\n",
      "['YBX1', 'EPAS1', 'ID3', 'NR4A1', 'ID1', 'KLF2', 'ZFP36', 'TSC22D3', 'ETS2', 'IFI16', 'FOS', 'MAL', 'NUPR1', 'JUN', 'NPM1', 'TCF4']\n",
      "[4, 36, 38, 53, 55, 56, 84, 86, 93, 111, 115]\n",
      "['YBX1', 'EPAS1', 'ID3', 'ID1', 'KLF2', 'ZFP36', 'TSC22D3', 'ETS2', 'IFI16', 'JUN', 'NPM1']\n",
      "[4, 36, 38, 42, 51, 53, 55, 56, 86, 93, 103, 111, 115]\n",
      "['YBX1', 'EPAS1', 'ID3', 'EGR1', 'IRF1', 'ID1', 'KLF2', 'ZFP36', 'ETS2', 'IFI16', 'FOS', 'JUN', 'NPM1']\n"
     ]
    }
   ],
   "source": [
    "slist = {}\n",
    "\n",
    "consensus = 5\n",
    "\n",
    "for idx, counter in enumerate(counters):\n",
    "    selected_indices = (counter >= consensus).nonzero()[0]\n",
    "    print(selected_indices.tolist())\n",
    "    selected_tfs = training_tfs[counter >= consensus]\n",
    "    print(selected_tfs.tolist())\n",
    "    slist[idx] = (selected_tfs, selected_indices)\n",
    "    # olap = npi(tfs, selected_tfs)\n",
    "    # print(olap)\n",
    "    # pval = htest(universe=training_tfs, draws=selected_tfs, successes=tfs)\n",
    "    # print(f\"T={idx}, overlap={olap.size} / {len(selected_tfs)}\", )\n",
    "    # print('====')"
   ]
  },
  {
   "cell_type": "code",
   "execution_count": 14,
   "id": "389736a3-4d21-43e5-83ff-d40818306fab",
   "metadata": {},
   "outputs": [
    {
     "name": "stdout",
     "output_type": "stream",
     "text": [
      "['CEBPB' 'EGR1' 'EPAS1' 'ETS2' 'FOS' 'HES1' 'ID1' 'ID3' 'IFI16' 'IRF1'\n",
      " 'JUN' 'KLF2' 'MAL' 'NPM1' 'NR4A1' 'NUPR1' 'TCF4' 'TSC22D3' 'YBX1' 'ZFP36'] 20\n",
      "[4, 33, 36, 38, 42, 46, 51, 53, 55, 56, 84, 86, 93, 103, 105, 106, 109, 111, 115, 121]\n"
     ]
    }
   ],
   "source": [
    "allidx = [v[1] for v in list(slist.values())]\n",
    "allgene = [v[0] for v in list(slist.values())]\n",
    "catted = npu(npc(allgene))\n",
    "print(catted, len(npu(npc(allgene))))\n",
    "print(npu(npc(allidx)).tolist())"
   ]
  },
  {
   "cell_type": "code",
   "execution_count": 10,
   "id": "7ef60994-1a76-4704-99f3-eddda3038f32",
   "metadata": {},
   "outputs": [
    {
     "name": "stdout",
     "output_type": "stream",
     "text": [
      "['EGR1' 'ELF3' 'FOS' 'HOPX' 'JUN' 'NPM1' 'NUPR1' 'TSC22D3' 'YBX1' 'ZFP36']\n",
      "['EGR1' 'ELF3' 'FOS' 'FOSB' 'HOPX' 'JUN' 'NPM1' 'NUPR1' 'TSC22D3' 'YBX1'\n",
      " 'ZFP36']\n",
      "['EGR1' 'ELF3' 'FOS' 'HOPX' 'ID1' 'JUN' 'NPM1' 'NR4A1' 'NUPR1' 'TSC22D3'\n",
      " 'YBX1' 'ZFP36']\n",
      "['BTG2' 'EGR1' 'ELF3' 'FOS' 'HOPX' 'JUN' 'NPM1' 'NUPR1' 'TSC22D3' 'YBX1'\n",
      " 'ZFP36']\n"
     ]
    }
   ],
   "source": [
    "sel = [v[0] for v in list(slist.values())]\n",
    "print(npi(npi(sel[0], sel[1]), sel[2]))\n",
    "print(npi(sel[0], sel[1]))\n",
    "print(npi(sel[1], sel[2]))\n",
    "print(npi(sel[0], sel[2]))"
   ]
  },
  {
   "cell_type": "code",
   "execution_count": 13,
   "id": "f857a1a6-5b2b-406a-b8e0-dafcb0a21a36",
   "metadata": {},
   "outputs": [
    {
     "data": {
      "text/plain": [
       "array(['CEBPB', 'CREG1', 'CTNNB1', 'DEK', 'ETS2', 'FOS', 'ID1', 'JUN',\n",
       "       'NPM1', 'RBL2', 'YBX1', 'ZFP36'], dtype='<U29')"
      ]
     },
     "execution_count": 13,
     "metadata": {},
     "output_type": "execute_result"
    }
   ],
   "source": [
    "npi(catted, dataset.snc_tfs)"
   ]
  },
  {
   "cell_type": "code",
   "execution_count": 4,
   "id": "af66da91-2375-420e-92a4-c2f481260153",
   "metadata": {},
   "outputs": [
    {
     "name": "stdout",
     "output_type": "stream",
     "text": [
      "\\textit{BTF3}, \\textit{FOS}, \\textit{JUNB}, \\textit{JUND}, \\textit{KLF2}, \\textit{NFKBIA}, \\textit{NPM1}, \\textit{PTMA}, \\textit{SF1}, \\textit{TSC22D3}, "
     ]
    }
   ],
   "source": [
    "a = ['BTF3', 'FOS', 'JUNB', 'JUND', 'KLF2', 'NFKBIA', 'NPM1', 'PTMA', 'SF1', 'TSC22D3']\n",
    "for g in a:\n",
    "    print(f\"\\\\textit{{{g}}}\", end=', ')"
   ]
  },
  {
   "cell_type": "markdown",
   "id": "48f6d434-e6d2-46ff-8700-3443b2cc3550",
   "metadata": {},
   "source": [
    "#### Full Step 2"
   ]
  },
  {
   "cell_type": "code",
   "execution_count": 22,
   "id": "4f4aaa7b-43f6-4eed-8077-7a0fb9f7a1b1",
   "metadata": {},
   "outputs": [],
   "source": [
    "full_runs = load_run_ids(f'results/runs/{dataset_name}/{model_name}.json', 'DEG4-full')"
   ]
  },
  {
   "cell_type": "code",
   "execution_count": 23,
   "id": "6d3ee5ae-80f7-41d4-b689-2ee304cbd9fb",
   "metadata": {},
   "outputs": [
    {
     "data": {
      "application/vnd.jupyter.widget-view+json": {
       "model_id": "b77f0252107f44f589e2a28539813df5",
       "version_major": 2,
       "version_minor": 0
      },
      "text/plain": [
       "  0%|          | 0/10 [00:00<?, ?it/s]"
      ]
     },
     "metadata": {},
     "output_type": "display_data"
    },
    {
     "name": "stdout",
     "output_type": "stream",
     "text": [
      "(10, 5, 2263, 22)\n"
     ]
    }
   ],
   "source": [
    "As = []\n",
    "\n",
    "for seed, run in tqdm(full_runs.items()):\n",
    "    if dataset_name == 'PBMC':\n",
    "        ckpt_path = f'PBMCGeneRegPseudotimeDataset_logs/{run}/checkpoints/last.ckpt'\n",
    "    else:\n",
    "        ckpt_path = f'GeneRegPseudotimeDataset_logs/{run}/checkpoints/last.ckpt'\n",
    "    module = stereo.STEREO_GCN_Module.load_from_checkpoint(ckpt_path, map_location='cpu')\n",
    "    As.append([A.detach().numpy() for A in module.A_seq_])\n",
    "\n",
    "As = np.stack(As)\n",
    "print(As.shape)"
   ]
  },
  {
   "cell_type": "code",
   "execution_count": 24,
   "id": "0b05d88c-e7f2-48f8-a31c-fc9f6d634778",
   "metadata": {},
   "outputs": [
    {
     "name": "stdout",
     "output_type": "stream",
     "text": [
      "t=0\t Selected 724 edges\tN. TFs = 22\tN. genes = 547\t\n",
      "t=1\t Selected 798 edges\tN. TFs = 22\tN. genes = 637\t\n",
      "t=2\t Selected 818 edges\tN. TFs = 22\tN. genes = 662\t\n",
      "t=3\t Selected 786 edges\tN. TFs = 22\tN. genes = 628\t\n",
      "t=4\t Selected 751 edges\tN. TFs = 22\tN. genes = 614\t\n"
     ]
    }
   ],
   "source": [
    "t_to_selected = aggregate_As(\n",
    "    As,\n",
    "    tfs=dataset.genes[module.sources_mask_seq[0]],\n",
    "    genes=dataset.genes,\n",
    "    consensus=3,\n",
    ")"
   ]
  },
  {
   "cell_type": "code",
   "execution_count": 26,
   "id": "b08a9807-d07a-4680-832e-d7b032d007a2",
   "metadata": {},
   "outputs": [],
   "source": [
    "write_graphs(t_to_selected, f'results/graphs/{dataset_name}/{model_name}-{dataset_name}')"
   ]
  }
 ],
 "metadata": {
  "kernelspec": {
   "display_name": "Python 3 (ipykernel)",
   "language": "python",
   "name": "python3"
  },
  "language_info": {
   "codemirror_mode": {
    "name": "ipython",
    "version": 3
   },
   "file_extension": ".py",
   "mimetype": "text/x-python",
   "name": "python",
   "nbconvert_exporter": "python",
   "pygments_lexer": "ipython3",
   "version": "3.10.12"
  }
 },
 "nbformat": 4,
 "nbformat_minor": 5
}
