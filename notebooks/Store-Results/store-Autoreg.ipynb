{
 "cells": [
  {
   "cell_type": "code",
   "execution_count": null,
   "id": "054a5773-ff7f-4e37-8697-fc39ae642499",
   "metadata": {},
   "outputs": [],
   "source": [
    "cd ../.."
   ]
  },
  {
   "cell_type": "code",
   "execution_count": null,
   "id": "5c686c27-a669-406c-ab48-ff40fec2f097",
   "metadata": {},
   "outputs": [],
   "source": [
    "import numpy as np\n",
    "from omegaconf import OmegaConf\n",
    "from sklearn.metrics import *\n",
    "from tqdm.auto import tqdm\n",
    "\n",
    "import stereo\n",
    "from stereo.utils.results import *\n",
    "\n",
    "npi = np.intersect1d\n",
    "npc = np.concatenate\n",
    "npu = np.unique\n",
    "npd = np.setdiff1d"
   ]
  },
  {
   "cell_type": "code",
   "execution_count": null,
   "id": "ecc4ff4a-0f84-4bd3-8707-79c0af7330aa",
   "metadata": {},
   "outputs": [],
   "source": [
    "model_name = 'Autoreg'\n",
    "dataset_name = 'PBMC'"
   ]
  },
  {
   "cell_type": "code",
   "execution_count": null,
   "id": "7864cda3-64a9-4e34-b6be-f3abc633772f",
   "metadata": {},
   "outputs": [],
   "source": [
    "cfg = OmegaConf.load(f'configs/dataset/GRN-{dataset_name}.yaml')\n",
    "dataset = load_dataset(cfg)\n",
    "training_tfs = dataset.genes[dataset.gene_is_tf]"
   ]
  },
  {
   "cell_type": "markdown",
   "id": "24318ad1-2a29-4000-a5e4-03cd3c6f1372",
   "metadata": {},
   "source": [
    "### Run seeds and IDs"
   ]
  },
  {
   "cell_type": "code",
   "execution_count": null,
   "id": "9d6c5a7f-858d-42e6-a260-d0531bea93b9",
   "metadata": {},
   "outputs": [],
   "source": [
    "runs = load_run_ids(f'results/runs/PBMC/{model_name}.json', 'DEG4')"
   ]
  },
  {
   "cell_type": "code",
   "execution_count": null,
   "id": "6d3ee5ae-80f7-41d4-b689-2ee304cbd9fb",
   "metadata": {},
   "outputs": [],
   "source": [
    "As = []\n",
    "\n",
    "for seed, run in tqdm(runs.items()):\n",
    "    ckpt_path = f'PBMCGeneRegPseudotimeDataset_logs/{run}/checkpoints/last.ckpt'\n",
    "    module = stereo.TemporalDeepAutoreg_Module.load_from_checkpoint(ckpt_path, map_location='cpu')\n",
    "    As.append([A.detach().numpy() for A in module.A_seq_])\n",
    "\n",
    "As = np.stack(As)\n",
    "print(As.shape)"
   ]
  },
  {
   "cell_type": "code",
   "execution_count": null,
   "id": "f6c09e01-5479-48af-a6dd-5a42a7ac9851",
   "metadata": {},
   "outputs": [],
   "source": [
    "t_to_selected = aggregate_As(\n",
    "    As,\n",
    "    tfs=dataset.genes[module.sources_mask_seq[0]],\n",
    "    genes=dataset.genes,\n",
    "    consensus=6,\n",
    "    top_tfs=38,\n",
    ")"
   ]
  },
  {
   "cell_type": "code",
   "execution_count": null,
   "id": "73ac87ff-ee9b-41ca-a292-e3b4b1f04263",
   "metadata": {},
   "outputs": [],
   "source": [
    "write_graphs(t_to_selected, f'results/graphs/{model_name}-{dataset_name}')"
   ]
  }
 ],
 "metadata": {
  "language_info": {
   "name": "python"
  }
 },
 "nbformat": 4,
 "nbformat_minor": 5
}
