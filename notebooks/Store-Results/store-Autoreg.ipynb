{
 "cells": [
  {
   "cell_type": "code",
   "execution_count": 1,
   "id": "054a5773-ff7f-4e37-8697-fc39ae642499",
   "metadata": {},
   "outputs": [
    {
     "name": "stdout",
     "output_type": "stream",
     "text": [
      "/home/paperspace/time-varying-graphs\n"
     ]
    }
   ],
   "source": [
    "cd ../.."
   ]
  },
  {
   "cell_type": "code",
   "execution_count": 2,
   "id": "5c686c27-a669-406c-ab48-ff40fec2f097",
   "metadata": {},
   "outputs": [],
   "source": [
    "import numpy as np\n",
    "from omegaconf import OmegaConf\n",
    "from sklearn.metrics import *\n",
    "from tqdm.auto import tqdm\n",
    "\n",
    "import stereo\n",
    "from stereo.utils.results import *\n",
    "\n",
    "npi = np.intersect1d\n",
    "npc = np.concatenate\n",
    "npu = np.unique\n",
    "npd = np.setdiff1d"
   ]
  },
  {
   "cell_type": "code",
   "execution_count": 3,
   "id": "ecc4ff4a-0f84-4bd3-8707-79c0af7330aa",
   "metadata": {},
   "outputs": [],
   "source": [
    "model_name = 'Autoreg'\n",
    "dataset_name = 'PBMC'"
   ]
  },
  {
   "cell_type": "code",
   "execution_count": 4,
   "id": "7864cda3-64a9-4e34-b6be-f3abc633772f",
   "metadata": {},
   "outputs": [
    {
     "name": "stdout",
     "output_type": "stream",
     "text": [
      "Keeping 2050 genes.\n"
     ]
    }
   ],
   "source": [
    "cfg = OmegaConf.load(f'configs/dataset/GRN-{dataset_name}.yaml')\n",
    "dataset = load_dataset(cfg)\n",
    "training_tfs = dataset.genes[dataset.gene_is_tf]"
   ]
  },
  {
   "cell_type": "markdown",
   "id": "24318ad1-2a29-4000-a5e4-03cd3c6f1372",
   "metadata": {},
   "source": [
    "### Run seeds and IDs"
   ]
  },
  {
   "cell_type": "code",
   "execution_count": 5,
   "id": "9d6c5a7f-858d-42e6-a260-d0531bea93b9",
   "metadata": {},
   "outputs": [],
   "source": [
    "runs = load_run_ids(f'results/runs/PBMC/{model_name}.json', 'DEG4')"
   ]
  },
  {
   "cell_type": "code",
   "execution_count": 6,
   "id": "6d3ee5ae-80f7-41d4-b689-2ee304cbd9fb",
   "metadata": {},
   "outputs": [
    {
     "data": {
      "application/vnd.jupyter.widget-view+json": {
       "model_id": "ed518a29cedc4a40b6c44c858f2c7e2c",
       "version_major": 2,
       "version_minor": 0
      },
      "text/plain": [
       "  0%|          | 0/10 [00:00<?, ?it/s]"
      ]
     },
     "metadata": {},
     "output_type": "display_data"
    },
    {
     "name": "stdout",
     "output_type": "stream",
     "text": [
      "(10, 3, 2050, 590)\n"
     ]
    }
   ],
   "source": [
    "As = []\n",
    "\n",
    "for seed, run in tqdm(runs.items()):\n",
    "    ckpt_path = f'PBMCGeneRegPseudotimeDataset_logs/{run}/checkpoints/last.ckpt'\n",
    "    module = stereo.TemporalDeepAutoreg_Module.load_from_checkpoint(ckpt_path, map_location='cpu')\n",
    "    As.append([A.detach().numpy() for A in module.A_seq_])\n",
    "\n",
    "As = np.stack(As)\n",
    "print(As.shape)"
   ]
  },
  {
   "cell_type": "code",
   "execution_count": 13,
   "id": "f6c09e01-5479-48af-a6dd-5a42a7ac9851",
   "metadata": {},
   "outputs": [
    {
     "name": "stdout",
     "output_type": "stream",
     "text": [
      "t=0\t Selected 1166 edges\tN. TFs = 38\tN. genes = 924\t\n",
      "t=1\t Selected 1017 edges\tN. TFs = 38\tN. genes = 862\t\n",
      "t=2\t Selected 728 edges\tN. TFs = 38\tN. genes = 659\t\n"
     ]
    }
   ],
   "source": [
    "t_to_selected = aggregate_As(\n",
    "    As,\n",
    "    tfs=dataset.genes[module.sources_mask_seq[0]],\n",
    "    genes=dataset.genes,\n",
    "    consensus=6,\n",
    "    top_tfs=38,\n",
    ")"
   ]
  },
  {
   "cell_type": "code",
   "execution_count": 15,
   "id": "73ac87ff-ee9b-41ca-a292-e3b4b1f04263",
   "metadata": {},
   "outputs": [],
   "source": [
    "write_graphs(t_to_selected, f'results/graphs/{model_name}-{dataset_name}')"
   ]
  }
 ],
 "metadata": {
  "kernelspec": {
   "display_name": "Python 3 (ipykernel)",
   "language": "python",
   "name": "python3"
  },
  "language_info": {
   "codemirror_mode": {
    "name": "ipython",
    "version": 3
   },
   "file_extension": ".py",
   "mimetype": "text/x-python",
   "name": "python",
   "nbconvert_exporter": "python",
   "pygments_lexer": "ipython3",
   "version": "3.10.12"
  }
 },
 "nbformat": 4,
 "nbformat_minor": 5
}
