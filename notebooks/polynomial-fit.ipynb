{
 "cells": [
  {
   "cell_type": "code",
   "execution_count": null,
   "id": "d0453040-0921-40fc-a102-b7e73573a4e1",
   "metadata": {},
   "outputs": [],
   "source": [
    "cd .."
   ]
  },
  {
   "cell_type": "markdown",
   "id": "e61e7936-b77c-4726-bc70-abe10ac6ed64",
   "metadata": {},
   "source": [
    "## Fit polynomial curves to gene expression"
   ]
  },
  {
   "cell_type": "code",
   "execution_count": null,
   "id": "60c09d34-811b-4b18-9a4b-cbe7155af208",
   "metadata": {},
   "outputs": [],
   "source": [
    "from tqdm.auto import tqdm\n",
    "import anndata\n",
    "import numpy as np\n",
    "import gc\n",
    "import seaborn as sns\n",
    "import matplotlib.pyplot as plt"
   ]
  },
  {
   "cell_type": "markdown",
   "id": "39822d38-854d-4027-a010-e89e218598e8",
   "metadata": {},
   "source": [
    "### HLCA & PBMC data\n",
    "\n",
    "Loads the pseudotime ordered AnnData's."
   ]
  },
  {
   "cell_type": "code",
   "execution_count": null,
   "id": "56e9b188-b574-4a29-9277-ef15b9514ce2",
   "metadata": {},
   "outputs": [],
   "source": [
    "# Pick cell type if running hlca from \n",
    "# Endothelial, AT2, Fibroblasts\n",
    "\n",
    "CELL_TYPE = 'Fibroblasts'\n",
    "\n",
    "meta = {\n",
    "    'hlca': {\n",
    "        'n_time_points': 6,\n",
    "        'filenames': f'adata_{CELL_TYPE}_',\n",
    "    },\n",
    "    'pbmc': {\n",
    "        'n_time_points': 4,\n",
    "        'filenames': 'adata_PBMC_',\n",
    "    }\n",
    "}"
   ]
  },
  {
   "cell_type": "markdown",
   "id": "04c1971d-ab31-4011-a7fe-56a4e578848c",
   "metadata": {},
   "source": [
    "Pick dataset from \n",
    "\n",
    "- pbmc\n",
    "- hlca"
   ]
  },
  {
   "cell_type": "code",
   "execution_count": null,
   "id": "0eec8b92-7ac4-4aaa-ac46-bceabc8ef384",
   "metadata": {},
   "outputs": [],
   "source": [
    "# dataset = 'pbmc'\n",
    "dataset = 'hlca'\n",
    "name = dataset + (f\"_{CELL_TYPE}\" if dataset == 'hlca' else '')"
   ]
  },
  {
   "cell_type": "markdown",
   "id": "644a18cf-d331-41de-8629-63b5665cff34",
   "metadata": {},
   "source": [
    "#### Read AnnDatas"
   ]
  },
  {
   "cell_type": "code",
   "execution_count": null,
   "id": "54dc3465-9fae-47cf-a307-2488850a7455",
   "metadata": {},
   "outputs": [],
   "source": [
    "n_time_points = meta[dataset]['n_time_points']\n",
    "\n",
    "adata_list = []\n",
    "\n",
    "for i in tqdm(range(n_time_points)):\n",
    "    adata = anndata.read(f\"data/pseudotime_adatas/{meta[dataset]['filenames']}{i}.h5ad\")\n",
    "    adata_list.append(adata)"
   ]
  },
  {
   "cell_type": "code",
   "execution_count": null,
   "id": "c022b210-3b7e-41bf-8835-8124f56ee5a4",
   "metadata": {},
   "outputs": [],
   "source": [
    "n_cell_list = [adata.shape[0] for adata in adata_list]\n",
    "n_genes = adata_list[0].shape[1]\n",
    "n_cells = sum(n_cell_list)"
   ]
  },
  {
   "cell_type": "markdown",
   "id": "f0b4b4cd-1004-4fb8-987b-c10ae6ce64d7",
   "metadata": {},
   "source": [
    "Sort each data matrix based on pseudotime ordering and concatenate"
   ]
  },
  {
   "cell_type": "code",
   "execution_count": null,
   "id": "c90954b4-1de5-4815-a670-a4b46e9342e6",
   "metadata": {},
   "outputs": [],
   "source": [
    "x = np.zeros((n_cells, n_genes))\n",
    "\n",
    "start_idx = 0\n",
    "for adata in tqdm(adata_list):\n",
    "    idx_order = adata.obs['t'].argsort()\n",
    "    x[start_idx: start_idx + adata.shape[0]] = adata.X.toarray()[idx_order]\n",
    "    start_idx += adata.shape[0]\n",
    "\n",
    "print(f\"{x.shape=}\")"
   ]
  },
  {
   "cell_type": "code",
   "execution_count": null,
   "id": "de6cc424-1402-469b-92e4-3aa5e3321e57",
   "metadata": {},
   "outputs": [],
   "source": [
    "del adata_list  # free memory\n",
    "gc.collect()"
   ]
  },
  {
   "cell_type": "markdown",
   "id": "595384db-81cb-43ee-9456-6f927b9c746b",
   "metadata": {},
   "source": [
    "### Fit polynomials"
   ]
  },
  {
   "cell_type": "code",
   "execution_count": null,
   "id": "4abb07b3-3b08-44d9-a3a1-84a5a75e4264",
   "metadata": {},
   "outputs": [],
   "source": [
    "DEG = 4"
   ]
  },
  {
   "cell_type": "code",
   "execution_count": null,
   "id": "c42c8d0a-b256-4b19-ae4a-c327f6cd4006",
   "metadata": {},
   "outputs": [],
   "source": [
    "memory_friendly = True\n",
    "\n",
    "if memory_friendly:\n",
    "    \"\"\"slower but seems to use less memory\"\"\"\n",
    "    coefs = np.zeros((n_genes, DEG + 1))\n",
    "    ticks = np.arange(n_cells)\n",
    "    \n",
    "    for gene_idx in tqdm(range(n_genes)):  # iterate over genes\n",
    "        x_gene = x[:, gene_idx]\n",
    "        coefs[gene_idx] = np.polyfit(ticks, x_gene, deg=DEG)\n",
    "else:\n",
    "    coefs = np.polyfit(np.arange(len(x)), x, deg=DEG)"
   ]
  },
  {
   "cell_type": "code",
   "execution_count": null,
   "id": "8ead1ab4-df89-48bc-9305-0f65a02e74dd",
   "metadata": {},
   "outputs": [],
   "source": [
    "np.save(open(f\"data/coefs/coefs_{name}_deg{DEG}.npz\", \"wb\"), coefs)"
   ]
  },
  {
   "cell_type": "code",
   "execution_count": null,
   "id": "1ca4606c-e6f0-46fb-aaaa-b565e7e3e61a",
   "metadata": {},
   "outputs": [],
   "source": [
    "# Plot example gene\n",
    "idx = 1235\n",
    "fig, ax = plt.subplots()\n",
    "y_smooth = np.poly1d(coefs[idx])(np.arange(n_cells))\n",
    "sns.lineplot(y_smooth, ax=ax)\n",
    "# sns.lineplot(x[:, idx], ax=ax, alpha=0.1)"
   ]
  },
  {
   "cell_type": "markdown",
   "id": "daeaeeaa-079e-45ed-9efc-3e9f2878c7fe",
   "metadata": {},
   "source": [
    "### Pick nodes"
   ]
  },
  {
   "cell_type": "code",
   "execution_count": null,
   "id": "fc886dfc-79b8-4906-95ce-6289ee678be3",
   "metadata": {},
   "outputs": [],
   "source": [
    "coefs = np.load(open(f\"data/coefs/coefs_{name}_deg{DEG}.npz\", \"rb\"))"
   ]
  },
  {
   "cell_type": "code",
   "execution_count": null,
   "id": "cd88bcd0-8e62-40e9-a818-1b1746ab92ab",
   "metadata": {},
   "outputs": [],
   "source": [
    "STEPS = 10  # to save space, will evaluate poly every STEPS nodes"
   ]
  },
  {
   "cell_type": "code",
   "execution_count": null,
   "id": "6fad7648-4b36-4c62-bae3-7df1cda07404",
   "metadata": {},
   "outputs": [],
   "source": [
    "ticks = np.arange(0, n_cells, STEPS)\n",
    "ys = np.zeros((n_genes, ticks.shape[0]))\n",
    "\n",
    "for i, coef in enumerate(tqdm(coefs)):\n",
    "    ys[i] = np.poly1d(coef)(ticks)"
   ]
  },
  {
   "cell_type": "code",
   "execution_count": null,
   "id": "29e79b6b-8831-41a1-869b-b5ba26efd497",
   "metadata": {},
   "outputs": [],
   "source": [
    "start_idx = 0\n",
    "ys_split = []\n",
    "for n_cell in n_cell_list:\n",
    "    y = ys[:, start_idx: start_idx + n_cell // STEPS]\n",
    "    start_idx += int(np.ceil(n_cell / STEPS))\n",
    "    ys_split.append(y)"
   ]
  },
  {
   "cell_type": "code",
   "execution_count": null,
   "id": "8914521a-c80a-41d3-8cc4-beeefe139cf2",
   "metadata": {},
   "outputs": [],
   "source": [
    "[y.shape for y in ys_split]"
   ]
  },
  {
   "cell_type": "code",
   "execution_count": null,
   "id": "2b514439-f2c2-43ba-8943-76ed94aa8a73",
   "metadata": {},
   "outputs": [],
   "source": [
    "for i, y in enumerate(tqdm(ys_split)):\n",
    "    np.save(open(f\"data/polys/ys_{name}_deg{DEG}_{i}.npz\", \"wb\"), y)"
   ]
  },
  {
   "cell_type": "code",
   "execution_count": null,
   "id": "95ef15f1-4159-4db9-bd67-88572af471fc",
   "metadata": {},
   "outputs": [],
   "source": [
    "# Plot example gene\n",
    "fig, ax = plt.subplots()\n",
    "y_smooth = np.concatenate([y[idx] for y in ys_split])\n",
    "sns.lineplot(y_smooth, ax=ax)\n",
    "# sns.lineplot(x[:, idx], ax=ax, alpha=0.1)"
   ]
  }
 ],
 "metadata": {
  "kernelspec": {
   "display_name": "Python 3 (ipykernel)",
   "language": "python",
   "name": "python3"
  },
  "language_info": {
   "codemirror_mode": {
    "name": "ipython",
    "version": 3
   },
   "file_extension": ".py",
   "mimetype": "text/x-python",
   "name": "python",
   "nbconvert_exporter": "python",
   "pygments_lexer": "ipython3",
   "version": "3.10.12"
  }
 },
 "nbformat": 4,
 "nbformat_minor": 5
}
