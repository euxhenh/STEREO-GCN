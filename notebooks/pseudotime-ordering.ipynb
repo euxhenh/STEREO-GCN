{
 "cells": [
  {
   "cell_type": "code",
   "execution_count": null,
   "id": "f106da1e-c06a-48e8-be96-044769824148",
   "metadata": {},
   "outputs": [],
   "source": [
    "cd .. "
   ]
  },
  {
   "cell_type": "markdown",
   "id": "127e9ec1-69da-4d2f-96a3-71c996793eac",
   "metadata": {},
   "source": [
    "## Pseudotime ordering of cells for each time point"
   ]
  },
  {
   "cell_type": "code",
   "execution_count": null,
   "id": "ceb7c077-e009-47aa-8ad7-8f62f314e525",
   "metadata": {},
   "outputs": [],
   "source": [
    "import anndata\n",
    "import pandas as pd\n",
    "import numpy as np\n",
    "from tqdm.auto import tqdm\n",
    "import scanpy as sc\n",
    "import scFates as scf\n",
    "import seaborn as sns\n",
    "import os\n",
    "import gc\n",
    "import matplotlib.pyplot as plt"
   ]
  },
  {
   "cell_type": "code",
   "execution_count": null,
   "id": "dbcca7af-a2c3-4f72-afea-ffcc3fb270b7",
   "metadata": {},
   "outputs": [],
   "source": [
    "def order(adata, root_gene, copy=True):\n",
    "    \"\"\"Order adata rooted at `root_gene`.\n",
    "    \"\"\"\n",
    "    if copy:\n",
    "        adata = adata.copy()\n",
    "        \n",
    "    sc.pp.pca(adata, n_comps=50)\n",
    "    scf.tl.curve(adata, Nodes=30, use_rep=\"X_pca\", ndims_rep=2)\n",
    "    \n",
    "    scf.tl.root(adata, root_gene)\n",
    "    scf.tl.pseudotime(adata, n_jobs=20, n_map=100, seed=42)\n",
    "    \n",
    "    return adata"
   ]
  },
  {
   "cell_type": "markdown",
   "id": "b15a3668-1842-4390-aeb8-7d982510fc34",
   "metadata": {},
   "source": [
    "### Pseudotime Ordering for PBMC COVID Vaccine CITE-seq data\n",
    "\n",
    "Zhang, Bingjie, et al. \"Multimodal single-cell datasets characterize antigen-specific CD8+ T cells across SARS-CoV-2 vaccination and infection\". Nature Immunology, https://www.nature.com/articles/s41590-023-01608-9.\n",
    "\n",
    "Data (`PBMC_vaccine_CITE.rds`) downloaded from: https://zenodo.org/record/7555405 and converted to `h5ad` following the tutorial at https://mojaveazure.github.io/seurat-disk/articles/convert-anndata.html"
   ]
  },
  {
   "cell_type": "code",
   "execution_count": null,
   "id": "dbdc6312-b7b3-4d0a-85ff-b0dbabf90cd2",
   "metadata": {},
   "outputs": [],
   "source": [
    "pbmc = anndata.read('/home/paperspace/data/CompBio/PBMC_vaccine_CITE_covid.h5ad')"
   ]
  },
  {
   "cell_type": "markdown",
   "id": "63ce4a00-670d-4639-8996-569264309d35",
   "metadata": {},
   "source": [
    "#### Order"
   ]
  },
  {
   "cell_type": "code",
   "execution_count": null,
   "id": "5afb542d-ab6e-45c8-a585-9319b755467f",
   "metadata": {
    "scrolled": true
   },
   "outputs": [],
   "source": [
    "root_gene = 'CD8A'\n",
    "pbmc_list = []\n",
    "\n",
    "\"\"\"\n",
    "PBMC samples for CITE-seq and ASAP-seq were collected at four time points:\n",
    "immediately before (Day 0) vaccination, after primary vaccination (Day 2, Day 10),\n",
    "and seven days after boost vaccination (Day 28).\n",
    "\n",
    "These correspond to `.obs['timepoint']` of 0, 1, 2, 3.\n",
    "\"\"\"\n",
    "\n",
    "for i in tqdm(range(4)):\n",
    "    adata = pbmc[pbmc.obs['timepoint'] == i]\n",
    "    adata = order(adata, root_gene)\n",
    "    pbmc_list.append(adata)"
   ]
  },
  {
   "cell_type": "code",
   "execution_count": null,
   "id": "f8dce969-56b5-4f34-bd3c-34c7db6890c2",
   "metadata": {},
   "outputs": [],
   "source": [
    "for i, adata in enumerate(tqdm(pbmc_list)):\n",
    "    adata.uns['timepoint'] = i\n",
    "    _ = adata.uns.pop('epg')  # pop due to write errors\n",
    "    del adata.raw  # write error\n",
    "    adata.write(f'data/pseudotime_adatas/adata_PBMC_{i}.h5ad')"
   ]
  },
  {
   "cell_type": "markdown",
   "id": "120aa843-1890-43d0-a8a7-255a6f628a67",
   "metadata": {},
   "source": [
    "### Pseudotime Ordering for Human Lung Cell Atlas snRNA-seq\n",
    "\n",
    "Sikkema, L., et al. \"An Integrated Cell Atlas of the Human Lung in Health and Disease:. Nature Medicine, https://www.nature.com/articles/s41591-023-02327-2.\n",
    "\n",
    "Data downloaded from https://cellxgene.cziscience.com/collections/6f6d381a-7701-4781-935c-db10d30de293\n",
    "\n",
    "We removed subjects with age='nan'.\n",
    "\n",
    "The following cell types were used in this study:\n",
    "\n",
    "- fibroblast of lung\n",
    "- AT2\n",
    "- endothelial cells (includes 'vein', 'pulmonary artery', 'capillary', 'lymphatic vessel')"
   ]
  },
  {
   "cell_type": "code",
   "execution_count": null,
   "id": "f3f0af0e-b847-426a-8d1c-8314db5a15d5",
   "metadata": {},
   "outputs": [],
   "source": [
    "# inclusive\n",
    "__age_groups__ = [(0, 25), (26, 35), (36, 45), (46, 55), (56, 65), (66, 100)]\n",
    "\n",
    "cell_types = [\n",
    "    'fibroblast of lung',\n",
    "    'AT2',\n",
    "    'Endothelial',\n",
    "]"
   ]
  },
  {
   "cell_type": "code",
   "execution_count": null,
   "id": "a052ec82-721b-4f95-a62f-56e677506f87",
   "metadata": {},
   "outputs": [],
   "source": [
    "# Pick cell type from the list above\n",
    "CELL_TYPE = 'Endothelial'"
   ]
  },
  {
   "cell_type": "code",
   "execution_count": null,
   "id": "8bd0b26b-def4-4d8f-a505-f761c26be8f5",
   "metadata": {},
   "outputs": [],
   "source": [
    "hlca = anndata.read('data/adatas/HLCA.h5ad')  # assuming we have removed subjects with age='nan'"
   ]
  },
  {
   "cell_type": "code",
   "execution_count": null,
   "id": "432285a2-98a0-4a0c-adc0-71ae52a8e62b",
   "metadata": {},
   "outputs": [],
   "source": [
    "if CELL_TYPE == cell_types[0]:\n",
    "    hlca = hlca[hlca.obs['cell_type'] == 'fibroblast of lung']\n",
    "    CELL_TYPE = 'Fibroblasts'  # to remove spaces for saving\n",
    "elif CELL_TYPE == cell_types[1]:\n",
    "    hlca = hlca[hlca.obs['ann_level_3'] == 'AT2']\n",
    "elif CELL_TYPE == cell_types[2]:\n",
    "    hlca = hlca[hlca.obs['ann_level_1'] == 'Endothelial']\n",
    "else:  # default to 'cell_type'\n",
    "    hlca = hlca[hlca.obs['cell_type'] == CELL_TYPE]\n",
    "\n",
    "subjects, idx = np.unique(hlca.obs['subject_ID'], return_index=True)\n",
    "age = hlca.obs['age'].to_numpy().astype(float)\n",
    "\n",
    "gc.collect()"
   ]
  },
  {
   "cell_type": "markdown",
   "id": "d5e38ca0-5454-41af-8630-458d76cdb251",
   "metadata": {},
   "source": [
    "#### Order"
   ]
  },
  {
   "cell_type": "code",
   "execution_count": null,
   "id": "2da8f8ee-fb36-40fa-aef8-a2513abe05ff",
   "metadata": {
    "scrolled": true
   },
   "outputs": [],
   "source": [
    "root = 'CDKN1A'\n",
    "root_gene = hlca[:, hlca.var['feature_name'] == root].var_names[0]\n",
    "hlca_list = []\n",
    "\n",
    "for i, (low, high) in enumerate(tqdm(__age_groups__)):\n",
    "    indices = np.where((age >= low) & (age <= high), True, False)\n",
    "    assert indices.sum() > 50  # ensure at least 50 samples\n",
    "    adata = order(hlca[indices], root_gene)\n",
    "    hlca_list.append(adata)"
   ]
  },
  {
   "cell_type": "code",
   "execution_count": null,
   "id": "e8d2e865-d841-45c7-bfe3-9281142b5fc9",
   "metadata": {},
   "outputs": [],
   "source": [
    "assert sum(adata.shape[0] for adata in hlca_list) == hlca.shape[0]"
   ]
  },
  {
   "cell_type": "code",
   "execution_count": null,
   "id": "e8c405e1-fef7-42b3-93bc-b67da192e01e",
   "metadata": {},
   "outputs": [],
   "source": [
    "for i, adata in enumerate(tqdm(hlca_list)):\n",
    "    adata.uns['age_group'] = list(__age_groups__[i])\n",
    "    _ = adata.uns.pop('epg')  # pop due to write errors\n",
    "    adata.write(f'data/pseudotime_adatas/adata_{CELL_TYPE}_{i}.h5ad')"
   ]
  }
 ],
 "metadata": {
  "kernelspec": {
   "display_name": "Python 3 (ipykernel)",
   "language": "python",
   "name": "python3"
  },
  "language_info": {
   "codemirror_mode": {
    "name": "ipython",
    "version": 3
   },
   "file_extension": ".py",
   "mimetype": "text/x-python",
   "name": "python",
   "nbconvert_exporter": "python",
   "pygments_lexer": "ipython3",
   "version": "3.10.12"
  }
 },
 "nbformat": 4,
 "nbformat_minor": 5
}
